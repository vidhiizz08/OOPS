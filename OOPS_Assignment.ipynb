{
  "nbformat": 4,
  "nbformat_minor": 0,
  "metadata": {
    "colab": {
      "provenance": []
    },
    "kernelspec": {
      "name": "python3",
      "display_name": "Python 3"
    },
    "language_info": {
      "name": "python"
    }
  },
  "cells": [
    {
      "cell_type": "markdown",
      "source": [
        "# Theory Questions\n",
        "\n"
      ],
      "metadata": {
        "id": "c27hn9DyyAbA"
      }
    },
    {
      "cell_type": "markdown",
      "source": [
        "#1 What is Object-Oriented Programming (OOP)?\n",
        "- A programming paradigm based on the concept of \"objects,\" which can contain data (attributes) and methods (functions).\n",
        "\n",
        "#2 What is a class in OOP?\n",
        "- A class defines a structure that describes the attributes (data) and methods (behavior) that objects of the class will have.\n",
        "\n",
        "#3 What is an object in OOP?\n",
        "- An object is an instance of a class. It contains the data and behavior defined by the class.\n",
        "#4 What is the difference between abstraction and encapsulation?\n",
        "- Abstraction: Focuses on hiding the complexity of the system by showing only the essential details (e.g., driving a car without knowing the internal mechanism).\n",
        "- Encapsulation: Bundles data and methods into a single unit (class) and restricts access using private or protected attributes (e.g., __variable in Python).\n",
        "\n",
        "#5 What are dunder methods in Python?\n",
        "- These are \"magic\" methods that enable operator overloading and special behaviors. For example, __add__ allows defining how the + operator works for custom objects.\n",
        "\n",
        "#6 Explain the concept of inheritance in OOP?\n",
        "- A way to create a new class (child) from an existing class (parent), inheriting its attributes and methods while adding or overriding them.\n",
        "\n",
        "#7 What is polymorphism in OOP?\n",
        "- Polymorphism allows methods to behave differently based on the object they are called on.\n",
        "\n",
        "#8 How is encapsulation achieved in Python?\n",
        "- Achieved by defining private attributes using double underscores (__). These attributes can be accessed or modified through getter and setter methods.\n",
        "\n",
        "#9 What is a constructor in Python?\n",
        "- A special method (__init__) automatically called when an object is created to initialize its attributes.\n",
        "\n",
        "#10 What are class and static methods in Python?\n",
        "- Class Method: Defined using @classmethod. It operates on the class and receives the class (cls) as its first parameter.\n",
        "- Static Method: Defined using @staticmethod. It doesn’t operate on the class or instance and is used for utility functions.\n",
        "\n",
        "#11 What is method overloading in Python?\n",
        "- While Python doesn’t support traditional method overloading, it can be mimicked using default or variable arguments.\n",
        "\n",
        "#12 What is method overriding in OOP?\n",
        "- A child class redefines a method from the parent class to provide specific behavior.\n",
        "\n",
        "\n",
        "#13 What is a property decorator in Python?\n",
        "- The @property decorator is used to define methods that can be accessed like attributes. This allows controlled access to private variables without exposing them directly.\n",
        "\n",
        "\n",
        "\n",
        "#14 Why is polymorphism important in OOP?\n",
        "- Enables code reuse and flexibility, allowing different classes to be used interchangeably while adhering to a common interface.\n",
        "\n",
        "\n",
        "\n",
        "#15 What is an abstract class in Python?\n",
        "-Abstract classes provide a template for other classes. They cannot be instantiated directly and are used to define methods that must be implemented by derived classes. This is achieved using the abc module and the @abstractmethod decorator.\n",
        "\n",
        "#16 What are the advantages of OOP?\n",
        "- Modularity: Code is divided into manageable chunks (classes).\n",
        "- Reusability: Classes and methods can be reused across programs.\n",
        "- Scalability: OOP designs are easier to expand and maintain.\n",
        "- Data Security: Encapsulation ensures controlled access to data.\n",
        "\n",
        "#17 What is the difference between a class variable and an instance variable?\n",
        "- Class Variable: Shared by all instances of a class (e.g., counter).\n",
        "- Instance Variable: Unique to each instance.\n",
        "#18 What is multiple inheritance in Python?\n",
        "- Multiple Inheritance in Python: A class inherits from more than one parent class.\n",
        "\n",
        "#19 Explain the purpose of ‘’__str__’ and ‘__repr__’ ‘ methods in Python?\n",
        "- __str__: Provides a user-friendly string representation of an object.\n",
        "- __repr__: Provides an unambiguous representation for developers.\n",
        "\n",
        "#20 What is the significance of the ‘super()’ function in Python?\n",
        "- Calls methods of the parent class to avoid explicit naming. Useful in inheritance.\n",
        "\n",
        "\n",
        "#21 What is the significance of the __del__ method in Python?\n",
        "- The destructor method is invoked when an object is garbage-collected to free resources.\n",
        "\n",
        "\n",
        "#22 What is the difference between @staticmethod and @classmethod in Python?\n",
        "- @staticmethod: Doesn’t use cls or self.\n",
        "- @classmethod: Uses cls to modify class state.\n",
        "\n",
        "#23 How does polymorphism work in Python with inheritance?\n",
        "- Enables overriding methods in child classes for specific behavior while using the same method name.\n",
        "\n",
        "#24 What is method chaining in Python OOP?\n",
        "- Allows calling multiple methods sequentially on the same object by returning self from each method.\n",
        "\n",
        "#25 What is the purpose of the __call__ method in Python?\n",
        "- The __call__ method in Python is a special or \"dunder\" method that allows an instance of a class to be called as if it were a function. This makes the object behave like a callable.\n",
        "\n"
      ],
      "metadata": {
        "id": "NBzFzz3PyJLL"
      }
    },
    {
      "cell_type": "markdown",
      "source": [
        "# Practical Question"
      ],
      "metadata": {
        "id": "JkdJgBQ22nEo"
      }
    },
    {
      "cell_type": "code",
      "source": [
        "#1 Create a parent class Animal with a method speak() and override it in a child class Dog.\n",
        "class Animal:\n",
        "    def speak(self):\n",
        "        print(\"Animal speaks.\")\n",
        "\n",
        "class Dog(Animal):\n",
        "    def speak(self):\n",
        "        print(\"Bark!\")\n",
        "\n",
        "# Test\n",
        "dog = Dog()\n",
        "dog.speak()\n",
        "\n"
      ],
      "metadata": {
        "colab": {
          "base_uri": "https://localhost:8080/"
        },
        "id": "pVJ9PKlU2yN6",
        "outputId": "a20dbf5f-99ce-4ed8-fb41-e03d7a9c6649"
      },
      "execution_count": 2,
      "outputs": [
        {
          "output_type": "stream",
          "name": "stdout",
          "text": [
            "Bark!\n"
          ]
        }
      ]
    },
    {
      "cell_type": "code",
      "source": [
        "# 2. Create an abstract class Shape and implement area() in derived classes Circle and Rectangle.\n",
        "from abc import ABC, abstractmethod\n",
        "\n",
        "class Shape(ABC):\n",
        "    @abstractmethod\n",
        "    def area(self):\n",
        "        pass\n",
        "\n",
        "class Circle(Shape):\n",
        "    def __init__(self, radius):\n",
        "        self.radius = radius\n",
        "\n",
        "    def area(self):\n",
        "        return 3.14 * self.radius ** 2\n",
        "\n",
        "class Rectangle(Shape):\n",
        "    def __init__(self, length, width):\n",
        "        self.length = length\n",
        "        self.width = width\n",
        "\n",
        "    def area(self):\n",
        "        return self.length * self.width\n",
        "\n",
        "# Test\n",
        "circle = Circle(5)\n",
        "rectangle = Rectangle(4, 6)\n",
        "print(\"Circle Area:\", circle.area())\n",
        "print(\"Rectangle Area:\", rectangle.area())\n"
      ],
      "metadata": {
        "colab": {
          "base_uri": "https://localhost:8080/"
        },
        "id": "G6p784zD2z5R",
        "outputId": "e6746d38-6d78-47b0-c387-c01f618c0d18"
      },
      "execution_count": 3,
      "outputs": [
        {
          "output_type": "stream",
          "name": "stdout",
          "text": [
            "Circle Area: 78.5\n",
            "Rectangle Area: 24\n"
          ]
        }
      ]
    },
    {
      "cell_type": "code",
      "source": [
        "# 3. Implement multi-level inheritance with Vehicle, Car, and ElectricCar.\n",
        "class Vehicle:\n",
        "    def __init__(self, type):\n",
        "        self.type = type\n",
        "\n",
        "class Car(Vehicle):\n",
        "    def __init__(self, type, brand):\n",
        "        super().__init__(type)\n",
        "        self.brand = brand\n",
        "\n",
        "class ElectricCar(Car):\n",
        "    def __init__(self, type, brand, battery):\n",
        "        super().__init__(type, brand)\n",
        "        self.battery = battery\n",
        "\n",
        "# Test\n",
        "tesla = ElectricCar(\"Electric\", \"Tesla\", \"100 kWh\")\n",
        "print(tesla.type, tesla.brand, tesla.battery)\n"
      ],
      "metadata": {
        "colab": {
          "base_uri": "https://localhost:8080/"
        },
        "id": "A8VJpr902z27",
        "outputId": "35bcc5ed-4070-4d5a-e850-dae13d1fc276"
      },
      "execution_count": 4,
      "outputs": [
        {
          "output_type": "stream",
          "name": "stdout",
          "text": [
            "Electric Tesla 100 kWh\n"
          ]
        }
      ]
    },
    {
      "cell_type": "code",
      "source": [
        "# 4. Implement encapsulation in BankAccount with private attributes and methods.\n",
        "class BankAccount:\n",
        "    def __init__(self):\n",
        "        self.__balance = 0\n",
        "\n",
        "    def deposit(self, amount):\n",
        "        self.__balance += amount\n",
        "\n",
        "    def withdraw(self, amount):\n",
        "        if amount <= self.__balance:\n",
        "            self.__balance -= amount\n",
        "        else:\n",
        "            print(\"Insufficient balance.\")\n",
        "\n",
        "    def check_balance(self):\n",
        "        return self.__balance\n",
        "\n",
        "# Test\n",
        "account = BankAccount()\n",
        "account.deposit(100)\n",
        "account.withdraw(50)\n",
        "print(\"Balance:\", account.check_balance())\n"
      ],
      "metadata": {
        "colab": {
          "base_uri": "https://localhost:8080/"
        },
        "id": "sZyDVXni2z0w",
        "outputId": "5ed0a2e3-723a-453e-8abe-c99a14c12fdd"
      },
      "execution_count": 5,
      "outputs": [
        {
          "output_type": "stream",
          "name": "stdout",
          "text": [
            "Balance: 50\n"
          ]
        }
      ]
    },
    {
      "cell_type": "code",
      "source": [
        "# 5. Demonstrate runtime polymorphism using Instrument, Guitar, and Piano.\n",
        "class Instrument:\n",
        "    def play(self):\n",
        "        print(\"Instrument is playing.\")\n",
        "\n",
        "class Guitar(Instrument):\n",
        "    def play(self):\n",
        "        print(\"Strumming the guitar.\")\n",
        "\n",
        "class Piano(Instrument):\n",
        "    def play(self):\n",
        "        print(\"Playing the piano.\")\n",
        "\n",
        "# Test\n",
        "instruments = [Guitar(), Piano()]\n",
        "for instrument in instruments:\n",
        "    instrument.play()\n"
      ],
      "metadata": {
        "colab": {
          "base_uri": "https://localhost:8080/"
        },
        "id": "gsT9E3Jk2zyf",
        "outputId": "0da581b4-af86-42ff-9926-3e0c49a64ba2"
      },
      "execution_count": 6,
      "outputs": [
        {
          "output_type": "stream",
          "name": "stdout",
          "text": [
            "Strumming the guitar.\n",
            "Playing the piano.\n"
          ]
        }
      ]
    },
    {
      "cell_type": "code",
      "source": [
        "# 6. Create MathOperations with class and static methods for addition and subtraction.\n",
        "class MathOperations:\n",
        "    @classmethod\n",
        "    def add_numbers(cls, a, b):\n",
        "        return a + b\n",
        "\n",
        "    @staticmethod\n",
        "    def subtract_numbers(a, b):\n",
        "        return a - b\n",
        "\n",
        "# Test\n",
        "print(\"Addition:\", MathOperations.add_numbers(5, 3))\n",
        "print(\"Subtraction:\", MathOperations.subtract_numbers(5, 3))\n"
      ],
      "metadata": {
        "colab": {
          "base_uri": "https://localhost:8080/"
        },
        "id": "_nB__XqB2zvl",
        "outputId": "57cfae2b-89aa-4c6e-97a5-f454f5becf0c"
      },
      "execution_count": 7,
      "outputs": [
        {
          "output_type": "stream",
          "name": "stdout",
          "text": [
            "Addition: 8\n",
            "Subtraction: 2\n"
          ]
        }
      ]
    },
    {
      "cell_type": "code",
      "source": [
        "# 7. Implement Person class with a class method to count total persons created.\n",
        "class Person:\n",
        "    count = 0\n",
        "\n",
        "    def __init__(self, name):\n",
        "        self.name = name\n",
        "        Person.count += 1\n",
        "\n",
        "    @classmethod\n",
        "    def total_persons(cls):\n",
        "        return cls.count\n",
        "\n",
        "# Test\n",
        "p1 = Person(\"Alice\")\n",
        "p2 = Person(\"Bob\")\n",
        "print(\"Total Persons:\", Person.total_persons())\n"
      ],
      "metadata": {
        "colab": {
          "base_uri": "https://localhost:8080/"
        },
        "id": "vI5xQKyw2ztQ",
        "outputId": "19d1af35-9155-4130-c1c0-454953c744d0"
      },
      "execution_count": 8,
      "outputs": [
        {
          "output_type": "stream",
          "name": "stdout",
          "text": [
            "Total Persons: 2\n"
          ]
        }
      ]
    },
    {
      "cell_type": "code",
      "source": [
        "# 8. Create Fraction class and override __str__ method to display fractions.\n",
        "class Fraction:\n",
        "    def __init__(self, numerator, denominator):\n",
        "        self.numerator = numerator\n",
        "        self.denominator = denominator\n",
        "\n",
        "    def __str__(self):\n",
        "        return f\"{self.numerator}/{self.denominator}\"\n",
        "\n",
        "# Test\n",
        "fraction = Fraction(3, 4)\n",
        "print(fraction)\n"
      ],
      "metadata": {
        "colab": {
          "base_uri": "https://localhost:8080/"
        },
        "id": "812ccjYd2zq_",
        "outputId": "0b28d1ca-a147-41db-fe1b-5cc734048874"
      },
      "execution_count": 9,
      "outputs": [
        {
          "output_type": "stream",
          "name": "stdout",
          "text": [
            "3/4\n"
          ]
        }
      ]
    },
    {
      "cell_type": "code",
      "source": [
        "# 9. Demonstrate operator overloading in Vector class.\n",
        "class Vector:\n",
        "    def __init__(self, x, y):\n",
        "        self.x = x\n",
        "        self.y = y\n",
        "\n",
        "    def __add__(self, other):\n",
        "        return Vector(self.x + other.x, self.y + other.y)\n",
        "\n",
        "    def __str__(self):\n",
        "        return f\"Vector({self.x}, {self.y})\"\n",
        "\n",
        "# Test\n",
        "v1 = Vector(1, 2)\n",
        "v2 = Vector(3, 4)\n",
        "print(v1 + v2)\n"
      ],
      "metadata": {
        "colab": {
          "base_uri": "https://localhost:8080/"
        },
        "id": "9iMZ9_6Y2zon",
        "outputId": "42a180e6-1e00-4f82-bc22-45c7961cf03b"
      },
      "execution_count": 10,
      "outputs": [
        {
          "output_type": "stream",
          "name": "stdout",
          "text": [
            "Vector(4, 6)\n"
          ]
        }
      ]
    },
    {
      "cell_type": "code",
      "source": [
        "# 10. Create Person class with a greet method.\n",
        "class Person:\n",
        "    def __init__(self, name, age):\n",
        "        self.name = name\n",
        "        self.age = age\n",
        "\n",
        "    def greet(self):\n",
        "        print(f\"Hello, my name is {self.name} and I am {self.age} years old.\")\n",
        "\n",
        "# Test\n",
        "person = Person(\"Alice\", 25)\n",
        "person.greet()\n"
      ],
      "metadata": {
        "colab": {
          "base_uri": "https://localhost:8080/"
        },
        "id": "IZSZXnL52zme",
        "outputId": "c89ee5cf-b71f-4e46-9edd-9948b8e66064"
      },
      "execution_count": 11,
      "outputs": [
        {
          "output_type": "stream",
          "name": "stdout",
          "text": [
            "Hello, my name is Alice and I am 25 years old.\n"
          ]
        }
      ]
    },
    {
      "cell_type": "code",
      "source": [
        "# 11. Implement Student class with average_grade method.\n",
        "class Student:\n",
        "    def __init__(self, name, grades):\n",
        "        self.name = name\n",
        "        self.grades = grades\n",
        "\n",
        "    def average_grade(self):\n",
        "        return sum(self.grades) / len(self.grades)\n",
        "\n",
        "# Test\n",
        "student = Student(\"Alice\", [85, 90, 78])\n",
        "print(\"Average Grade:\", student.average_grade())\n"
      ],
      "metadata": {
        "colab": {
          "base_uri": "https://localhost:8080/"
        },
        "id": "ipiPkKPJ2zkN",
        "outputId": "d555feec-0fdd-4adc-e6c2-bba5681b5acb"
      },
      "execution_count": 12,
      "outputs": [
        {
          "output_type": "stream",
          "name": "stdout",
          "text": [
            "Average Grade: 84.33333333333333\n"
          ]
        }
      ]
    },
    {
      "cell_type": "code",
      "source": [
        "# 12. Create Rectangle class with methods for setting dimensions and calculating area.\n",
        "class Rectangle:\n",
        "    def set_dimensions(self, length, width):\n",
        "        self.length = length\n",
        "        self.width = width\n",
        "\n",
        "    def area(self):\n",
        "        return self.length * self.width\n",
        "\n",
        "# Test\n",
        "rectangle = Rectangle()\n",
        "rectangle.set_dimensions(4, 6)\n",
        "print(\"Area:\", rectangle.area())\n"
      ],
      "metadata": {
        "colab": {
          "base_uri": "https://localhost:8080/"
        },
        "id": "6AbcvJJA2zhk",
        "outputId": "f2dea0ae-a1c1-4a86-e9f4-4985e231a1d7"
      },
      "execution_count": 13,
      "outputs": [
        {
          "output_type": "stream",
          "name": "stdout",
          "text": [
            "Area: 24\n"
          ]
        }
      ]
    },
    {
      "cell_type": "code",
      "source": [
        "# 13. Create Employee class and derived class Manager with salary calculation.\n",
        "class Employee:\n",
        "    def calculate_salary(self, hours, rate):\n",
        "        return hours * rate\n",
        "\n",
        "class Manager(Employee):\n",
        "    def calculate_salary(self, hours, rate, bonus):\n",
        "        return super().calculate_salary(hours, rate) + bonus\n",
        "\n",
        "# Test\n",
        "manager = Manager()\n",
        "print(\"Manager Salary:\", manager.calculate_salary(40, 50, 1000))\n"
      ],
      "metadata": {
        "colab": {
          "base_uri": "https://localhost:8080/"
        },
        "id": "1NrV23tO2zfM",
        "outputId": "cc6efc30-ac39-49c5-a115-2a6fc883b6fd"
      },
      "execution_count": 14,
      "outputs": [
        {
          "output_type": "stream",
          "name": "stdout",
          "text": [
            "Manager Salary: 3000\n"
          ]
        }
      ]
    },
    {
      "cell_type": "code",
      "source": [
        "# 14. Create a class Product with attributes name, price, and quantity, and a method total_price().\n",
        "class Product:\n",
        "    def __init__(self, name, price, quantity):\n",
        "        self.name = name\n",
        "        self.price = price\n",
        "        self.quantity = quantity\n",
        "\n",
        "    def total_price(self):\n",
        "        return self.price * self.quantity\n",
        "\n",
        "# Test\n",
        "product = Product(\"Laptop\", 1000, 3)\n",
        "print(\"Total Price:\", product.total_price())\n"
      ],
      "metadata": {
        "colab": {
          "base_uri": "https://localhost:8080/"
        },
        "id": "w7SRb7Y42zcy",
        "outputId": "f46fa683-7de1-4129-a7f1-68346c0d49a8"
      },
      "execution_count": 15,
      "outputs": [
        {
          "output_type": "stream",
          "name": "stdout",
          "text": [
            "Total Price: 3000\n"
          ]
        }
      ]
    },
    {
      "cell_type": "code",
      "source": [
        "# 15. Create a class Animal with an abstract method sound() and derived classes Cow and Sheep.\n",
        "from abc import ABC, abstractmethod\n",
        "\n",
        "class Animal(ABC):\n",
        "    @abstractmethod\n",
        "    def sound(self):\n",
        "        pass\n",
        "\n",
        "class Cow(Animal):\n",
        "    def sound(self):\n",
        "        return \"Moo!\"\n",
        "\n",
        "class Sheep(Animal):\n",
        "    def sound(self):\n",
        "        return \"Baa!\"\n",
        "\n",
        "# Test\n",
        "cow = Cow()\n",
        "sheep = Sheep()\n",
        "print(\"Cow Sound:\", cow.sound())\n",
        "print(\"Sheep Sound:\", sheep.sound())\n"
      ],
      "metadata": {
        "colab": {
          "base_uri": "https://localhost:8080/"
        },
        "id": "peVLjIfk2zZv",
        "outputId": "640364c3-7b7d-4001-b205-7102ebdafde3"
      },
      "execution_count": 16,
      "outputs": [
        {
          "output_type": "stream",
          "name": "stdout",
          "text": [
            "Cow Sound: Moo!\n",
            "Sheep Sound: Baa!\n"
          ]
        }
      ]
    },
    {
      "cell_type": "code",
      "source": [
        "# 16. Create a class Book with attributes title, author, and year_published, and a method get_book_info().\n",
        "class Book:\n",
        "    def __init__(self, title, author, year_published):\n",
        "        self.title = title\n",
        "        self.author = author\n",
        "        self.year_published = year_published\n",
        "\n",
        "    def get_book_info(self):\n",
        "        return f\"'{self.title}' by {self.author}, published in {self.year_published}.\"\n",
        "\n",
        "# Test\n",
        "book = Book(\"1984\", \"George Orwell\", 1949)\n",
        "print(book.get_book_info())\n"
      ],
      "metadata": {
        "colab": {
          "base_uri": "https://localhost:8080/"
        },
        "id": "DEt8IJMI2zW2",
        "outputId": "6a18bc6e-5abd-49ca-9498-c86183213367"
      },
      "execution_count": 17,
      "outputs": [
        {
          "output_type": "stream",
          "name": "stdout",
          "text": [
            "'1984' by George Orwell, published in 1949.\n"
          ]
        }
      ]
    },
    {
      "cell_type": "code",
      "source": [
        "# 17. Create a class House with attributes address and price, and a derived class Mansion with number_of_rooms.\n",
        "class House:\n",
        "    def __init__(self, address, price):\n",
        "        self.address = address\n",
        "        self.price = price\n",
        "\n",
        "class Mansion(House):\n",
        "    def __init__(self, address, price, number_of_rooms):\n",
        "        super().__init__(address, price)\n",
        "        self.number_of_rooms = number_of_rooms\n",
        "\n",
        "# Test\n",
        "mansion = Mansion(\"123 Luxury Lane\", 5000000, 10)\n",
        "print(\"Address:\", mansion.address)\n",
        "print(\"Price:\", mansion.price)\n",
        "print(\"Number of Rooms:\", mansion.number_of_rooms)\n"
      ],
      "metadata": {
        "colab": {
          "base_uri": "https://localhost:8080/"
        },
        "id": "n8VhOFtY2zUi",
        "outputId": "adfe5450-1444-4ac9-a3ed-04c047976442"
      },
      "execution_count": 18,
      "outputs": [
        {
          "output_type": "stream",
          "name": "stdout",
          "text": [
            "Address: 123 Luxury Lane\n",
            "Price: 5000000\n",
            "Number of Rooms: 10\n"
          ]
        }
      ]
    }
  ]
}